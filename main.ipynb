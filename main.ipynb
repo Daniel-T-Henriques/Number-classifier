{
 "cells": [
  {
   "cell_type": "markdown",
   "metadata": {},
   "source": [
    "### Imports"
   ]
  },
  {
   "cell_type": "code",
   "execution_count": 84,
   "metadata": {},
   "outputs": [],
   "source": [
    "import torch\n",
    "import torchvision\n",
    "import torch.nn as nn\n",
    "import torch.optim as optim\n",
    "import torch.nn.functional as F\n",
    "import torchvision.transforms as transf\n",
    "from matplotlib import pyplot as plt"
   ]
  },
  {
   "cell_type": "markdown",
   "metadata": {},
   "source": [
    "### Criando a rede neural"
   ]
  },
  {
   "cell_type": "code",
   "execution_count": 85,
   "metadata": {},
   "outputs": [],
   "source": [
    "class NeuralNet(nn.Module): #NN Herda nn_Module\n",
    "    def __init__(self):\n",
    "        super(NeuralNet, self).__init__()\n",
    "        self.flatten = nn.Flatten() #Achatando imagem\n",
    "        \n",
    "        # Neurônio 1: 28*28 pixels de entrada, 128 saídas\n",
    "        self.fc1 = nn.Linear(28*28, 128)\n",
    "        \n",
    "        # Neurônio 2: 128 px de entrada, classif. em 10 tipos (0-9)\n",
    "        self.fc2 = nn.Linear(128, 10)\n",
    "    \n",
    "    def forward(self, x):\n",
    "        x = self.flatten(x)\n",
    "        x = F.relu(self.fc1(x))\n",
    "        x = self.fc2(x)\n",
    "        return x"
   ]
  },
  {
   "cell_type": "markdown",
   "metadata": {},
   "source": [
    "### Baixando o dataset"
   ]
  },
  {
   "cell_type": "code",
   "execution_count": 86,
   "metadata": {},
   "outputs": [],
   "source": [
    "transform = transf.Compose([transf.ToTensor(), transf.Normalize((0.5), (0.5)) ])\n",
    "\n",
    "# Criando dataset de treino e de teste\n",
    "train_dataset = torchvision.datasets.MNIST(\n",
    "    root=\"./data\", transform = transform, train=True, download=True\n",
    ")\n",
    "\n",
    "test_dataset = rain_dataset = torchvision.datasets.MNIST(\n",
    "    root=\"./data\", transform = transform, train=False, download=True\n",
    ")\n",
    "\n",
    "# Criando o batch (que adicionará batch_size imagens ao dataset quando ele acabar)\n",
    "train_loader = torch.utils.data.DataLoader(\n",
    "    dataset = train_dataset, batch_size = 32, shuffle=True\n",
    ")"
   ]
  },
  {
   "cell_type": "code",
   "execution_count": 87,
   "metadata": {},
   "outputs": [
    {
     "data": {
      "image/png": "[encoded data removed]",
      "text/plain": [
       "<Figure size 640x480 with 9 Axes>"
      ]
     },
     "metadata": {},
     "output_type": "display_data"
    }
   ],
   "source": [
    "examples = iter(train_loader)\n",
    "images, labels = next(examples)\n",
    "\n",
    "for i in range(9):\n",
    "    plt.subplot(3,3,i+1)\n",
    "    plt.imshow(images[i][0], cmap=\"gray\")\n",
    "    plt.title(f\"label:{labels[i].item()}\")\n",
    "    plt.axis(\"off\")\n",
    "plt.show()"
   ]
  },
  {
   "cell_type": "code",
   "execution_count": 88,
   "metadata": {},
   "outputs": [
    {
     "name": "stdout",
     "output_type": "stream",
     "text": [
      "Epoch: 1/5\n",
      "Loss: 0.1135\n",
      "\n",
      "Epoch: 2/5\n",
      "Loss: 0.1747\n",
      "\n",
      "Epoch: 3/5\n",
      "Loss: 0.0578\n",
      "\n",
      "Epoch: 4/5\n",
      "Loss: 0.0245\n",
      "\n",
      "Epoch: 5/5\n",
      "Loss: 0.0663\n",
      "\n"
     ]
    }
   ],
   "source": [
    "model = NeuralNet()\n",
    "\n",
    "# Função de perda e otimizador\n",
    "criterium = nn.CrossEntropyLoss() #Entropia cruzada\n",
    "optimizer = optim.Adam(model.parameters(), lr=0.001)\n",
    "\n",
    "# Treinamento\n",
    "num_epochs = 5\n",
    "for epoch in range(num_epochs):\n",
    "    for images, labels in train_loader:\n",
    "        # Zerar os gradientes\n",
    "        optimizer.zero_grad()\n",
    "        \n",
    "        # Passar pelo modelo\n",
    "        outputs = model(images)\n",
    "        \n",
    "        # Calcular a perda\n",
    "        loss = criterium(outputs, labels)\n",
    "        \n",
    "        loss.backward()\n",
    "        \n",
    "        # Atualizar os pesos\n",
    "        optimizer.step()\n",
    "    print((f\"Epoch: {epoch+1}/{num_epochs}\\nLoss: {loss.item():.4f}\\n\"))"
   ]
  }
 ],
 "metadata": {
  "kernelspec": {
   "display_name": "my_env",
   "language": "python",
   "name": "python3"
  },
  "language_info": {
   "codemirror_mode": {
    "name": "ipython",
    "version": 3
   },
   "file_extension": ".py",
   "mimetype": "text/x-python",
   "name": "python",
   "nbconvert_exporter": "python",
   "pygments_lexer": "ipython3",
   "version": "3.8.20"
  }
 },
 "nbformat": 4,
 "nbformat_minor": 2
}
